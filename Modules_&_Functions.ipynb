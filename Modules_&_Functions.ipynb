{
  "nbformat": 4,
  "nbformat_minor": 0,
  "metadata": {
    "colab": {
      "provenance": [],
      "authorship_tag": "ABX9TyMgvpqwNNwwlP48gklOSSoh",
      "include_colab_link": true
    },
    "kernelspec": {
      "name": "python3",
      "display_name": "Python 3"
    },
    "language_info": {
      "name": "python"
    }
  },
  "cells": [
    {
      "cell_type": "markdown",
      "metadata": {
        "id": "view-in-github",
        "colab_type": "text"
      },
      "source": [
        "<a href=\"https://colab.research.google.com/github/hibameo/python_Modules-Functions/blob/main/Modules_%26_Functions.ipynb\" target=\"_parent\"><img src=\"https://colab.research.google.com/assets/colab-badge.svg\" alt=\"Open In Colab\"/></a>"
      ]
    },
    {
      "cell_type": "markdown",
      "source": [
        "\n",
        "Python mein modules aur functions do important concepts hain jo aapke code ko organized aur reusable banane mein madad karte hain."
      ],
      "metadata": {
        "id": "jlGdFQChAVX1"
      }
    },
    {
      "cell_type": "markdown",
      "source": [
        "1. Modules:"
      ],
      "metadata": {
        "id": "dOZotu-yAgVp"
      }
    },
    {
      "cell_type": "markdown",
      "source": [
        "Module ek file hoti hai jisme Python ka code likha hota hai. Isme functions, classes, variables, etc., hote hain, jo aap kisi doosre Python program mein use kar sakte ho."
      ],
      "metadata": {
        "id": "SjnTzb9aAkSl"
      }
    },
    {
      "cell_type": "markdown",
      "source": [
        "Example:"
      ],
      "metadata": {
        "id": "-7irD31jArTe"
      }
    },
    {
      "cell_type": "markdown",
      "source": [
        "Agar aapko math-related operations karne hain, to Python mein ek built-in module math hota hai.\n",
        "\n"
      ],
      "metadata": {
        "id": "7Ef0rM4vAtxL"
      }
    },
    {
      "cell_type": "code",
      "source": [
        "import math  # math module ko import karo\n",
        "\n",
        "print(math.sqrt(16))  # 16 ka square root nikalega, jo 4 hai\n"
      ],
      "metadata": {
        "colab": {
          "base_uri": "https://localhost:8080/"
        },
        "id": "hiyW0pvbAwSL",
        "outputId": "dbbd1c96-d98a-4715-f608-1712eb328a79"
      },
      "execution_count": 1,
      "outputs": [
        {
          "output_type": "stream",
          "name": "stdout",
          "text": [
            "4.0\n"
          ]
        }
      ]
    },
    {
      "cell_type": "markdown",
      "source": [
        "Yahan math ek module hai jo humne import kiya, aur uske andar ka sqrt() function use kiya.\n",
        "\n",
        "Modules ko aap apne bhi create kar sakte hain. Jaise agar aapke paas ek file hai my_module.py, to usme functions ya variables likh kar usse import kar sakte hain."
      ],
      "metadata": {
        "id": "-yFNLl5gA51q"
      }
    },
    {
      "cell_type": "markdown",
      "source": [
        "Example:"
      ],
      "metadata": {
        "id": "Ntu6LEI8A8gI"
      }
    },
    {
      "cell_type": "markdown",
      "source": [
        "my_module.py:"
      ],
      "metadata": {
        "id": "Oxzp7m7OA_i8"
      }
    },
    {
      "cell_type": "code",
      "source": [
        "def greet(name):\n",
        "    return f\"Hello, {name}!\"\n"
      ],
      "metadata": {
        "id": "bHML-PocBCSC"
      },
      "execution_count": 2,
      "outputs": []
    },
    {
      "cell_type": "markdown",
      "source": [
        "Phir is module ko doosri file mein use kar sakte hain:"
      ],
      "metadata": {
        "id": "kqQNOMceBG_0"
      }
    },
    {
      "cell_type": "code",
      "source": [
        "#import my_module\n",
        "\n",
        "#print(my_module.greet(\"Hiba\"))  # Output: Hello, Hiba!\n"
      ],
      "metadata": {
        "id": "fp5Kys9EBJGv"
      },
      "execution_count": 4,
      "outputs": []
    },
    {
      "cell_type": "markdown",
      "source": [
        "2. Functions:"
      ],
      "metadata": {
        "id": "FQ-95DC_Beq3"
      }
    },
    {
      "cell_type": "markdown",
      "source": [
        "Functions ek block of code hote hain jo specific task perform karte hain. Jab aapko kisi task ko baar-baar repeat karna ho, to usse function mein daal ke call kar sakte hain.\n",
        "\n",
        "Function ka Syntax:"
      ],
      "metadata": {
        "id": "mN3kyBeBBhHL"
      }
    },
    {
      "cell_type": "code",
      "source": [
        "def function_name(parameters):\n",
        "    # function body\n",
        "    return value\n"
      ],
      "metadata": {
        "id": "7IMTVlfTBj7h"
      },
      "execution_count": 5,
      "outputs": []
    },
    {
      "cell_type": "markdown",
      "source": [
        "def: Yeh keyword function ko define karne ke liye hota hai.\n",
        "\n",
        "function_name: Function ka naam hota hai jo aap define karte ho.\n",
        "\n",
        "parameters: Yeh optional hote hain. Aap chaho to inputs le sakte ho.\n",
        "\n",
        "return: Function ke result ko return karne ke liye use hota hai."
      ],
      "metadata": {
        "id": "AZ7pOLp7Bpub"
      }
    },
    {
      "cell_type": "markdown",
      "source": [
        "Example:"
      ],
      "metadata": {
        "id": "usJgCzNCBucn"
      }
    },
    {
      "cell_type": "code",
      "source": [
        "def add_numbers(a, b):\n",
        "    return a + b\n",
        "\n",
        "result = add_numbers(5, 7)  # Function ko call kiya\n",
        "print(result)  # Output: 12\n"
      ],
      "metadata": {
        "colab": {
          "base_uri": "https://localhost:8080/"
        },
        "id": "gfqmW4C0BwOR",
        "outputId": "13757a4a-8e29-41e1-fc53-c2e11cd319d7"
      },
      "execution_count": 6,
      "outputs": [
        {
          "output_type": "stream",
          "name": "stdout",
          "text": [
            "12\n"
          ]
        }
      ]
    },
    {
      "cell_type": "markdown",
      "source": [
        "Yahan add_numbers ek function hai jo do numbers ko add kar raha hai.\n",
        "\n"
      ],
      "metadata": {
        "id": "FU_bPLOHB8TJ"
      }
    },
    {
      "cell_type": "markdown",
      "source": [
        "Modules and Functions ka Combo:\n",
        "Aap apne custom modules bana kar usme functions define kar sakte hain aur phir un functions ko doosri files mein use kar sakte hain. Yeh aapke code ko clean aur manageable banata hai"
      ],
      "metadata": {
        "id": "1pVoV0uLCAur"
      }
    }
  ]
}